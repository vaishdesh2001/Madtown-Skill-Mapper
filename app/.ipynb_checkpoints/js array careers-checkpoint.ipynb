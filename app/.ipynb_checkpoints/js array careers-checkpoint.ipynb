{
 "cells": [
  {
   "cell_type": "code",
   "execution_count": 1,
   "metadata": {},
   "outputs": [],
   "source": [
    "import os"
   ]
  },
  {
   "cell_type": "code",
   "execution_count": 10,
   "metadata": {},
   "outputs": [
    {
     "data": {
      "text/plain": [
       "'wellhead pumpers wellhead pumpers'"
      ]
     },
     "execution_count": 10,
     "metadata": {},
     "output_type": "execute_result"
    }
   ],
   "source": [
    "f = open(os.path.join(\"all_text_files\", \"list_careers.txt\"), encoding = \"utf-8\")\n",
    "data = f.read()\n",
    "f.close()\n",
    "list_data = data.split(\"\\n\")\n",
    "if \"\" in list_data:\n",
    "    list_data.remove(\"\")"
   ]
  },
  {
   "cell_type": "code",
   "execution_count": 11,
   "metadata": {},
   "outputs": [],
   "source": [
    "new_file = open(os.path.join(\"all_text_files\", \"jsarraycareers.txt\"), \"w\", encoding = \"utf-8\")    \n",
    "for each in list_data:\n",
    "    text = \"\\\"\" + each + \"\\\"\" + \", \"\n",
    "    new_file.write(text)\n",
    "new_file.close()"
   ]
  },
  {
   "cell_type": "code",
   "execution_count": null,
   "metadata": {},
   "outputs": [],
   "source": []
  }
 ],
 "metadata": {
  "kernelspec": {
   "display_name": "Python 3",
   "language": "python",
   "name": "python3"
  },
  "language_info": {
   "codemirror_mode": {
    "name": "ipython",
    "version": 3
   },
   "file_extension": ".py",
   "mimetype": "text/x-python",
   "name": "python",
   "nbconvert_exporter": "python",
   "pygments_lexer": "ipython3",
   "version": "3.7.6"
  }
 },
 "nbformat": 4,
 "nbformat_minor": 4
}
